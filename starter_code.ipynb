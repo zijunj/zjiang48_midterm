{
 "cells": [
  {
   "cell_type": "markdown",
   "metadata": {},
   "source": [
    "# Libraries"
   ]
  },
  {
   "cell_type": "code",
   "execution_count": 125,
   "metadata": {},
   "outputs": [],
   "source": [
    "import pickle\n",
    "import numpy as np\n",
    "import pandas as pd\n",
    "import seaborn as sns\n",
    "from textblob import TextBlob\n",
    "\n",
    "from os.path import exists\n",
    "import matplotlib.pyplot as plt\n",
    "\n",
    "from xgboost import XGBClassifier\n",
    "from lightgbm import LGBMClassifier\n",
    "from \n",
    "\n",
    "from sklearn.model_selection import KFold, cross_val_predict\n",
    "\n",
    "from sklearn.linear_model import Lasso\n",
    "from sklearn.preprocessing import StandardScaler\n",
    "\n",
    "from sklearn.model_selection import GridSearchCV\n",
    "\n",
    "import optuna\n",
    "from optuna.samplers import TPESampler\n",
    "\n",
    "\n",
    "from sklearn.model_selection import train_test_split\n",
    "from sklearn.metrics import accuracy_score, confusion_matrix"
   ]
  },
  {
   "cell_type": "markdown",
   "metadata": {},
   "source": [
    "# Loading the Files\n",
    "\n",
    "Download the csv files into the `data/` directory."
   ]
  },
  {
   "cell_type": "code",
   "execution_count": 54,
   "metadata": {},
   "outputs": [
    {
     "name": "stdout",
     "output_type": "stream",
     "text": [
      "train.csv shape is  (1697533, 9)\n",
      "test.csv shape is  (212192, 2)\n",
      "\n",
      "        Id   ProductId          UserId  HelpfulnessNumerator  \\\n",
      "0   914403  B0009W5KHM   AV6QDP8Q0ONK4                     2   \n",
      "1   354887  6303079709  A2I8RXJN80A2D2                     0   \n",
      "2  1407653  B004H0M2XC  A3FHV3RV8Z12E6                     0   \n",
      "3  1377458  B003ZJ9536  A12VLTA3ZHVPUY                     1   \n",
      "4   475323  630574453X  A13NM1PES9OXVN                     2   \n",
      "\n",
      "   HelpfulnessDenominator        Time  \\\n",
      "0                       2  1341014400   \n",
      "1                       0  1168819200   \n",
      "2                       0  1386201600   \n",
      "3                       1  1348704000   \n",
      "4                       3   970012800   \n",
      "\n",
      "                                         Summary  \\\n",
      "0                                  GOOD FUN FILM   \n",
      "1                                   Movie Review   \n",
      "2             When is it a good time to Consent?   \n",
      "3                                          TRUTH   \n",
      "4  Intelligent and bittersweet -- stays with you   \n",
      "\n",
      "                                                Text  Score  \n",
      "0  While most straight to DVD films are not worth...    5.0  \n",
      "1  I have wanted this one for sometime, also.  I ...    5.0  \n",
      "2  Actually this was a pretty darn good indie fil...    4.0  \n",
      "3  Episodes 37 to 72 of the series press on in a ...    5.0  \n",
      "4  I was really impressed with this movie, but wa...    3.0  \n",
      "['Id' 'ProductId' 'UserId' 'HelpfulnessNumerator' 'HelpfulnessDenominator'\n",
      " 'Time' 'Summary' 'Text' 'Score']\n",
      "\n",
      "        Id  Score\n",
      "0  1323432    NaN\n",
      "1  1137299    NaN\n",
      "2  1459366    NaN\n",
      "3   931601    NaN\n",
      "4  1311995    NaN\n",
      "\n",
      "                 Id  HelpfulnessNumerator  HelpfulnessDenominator  \\\n",
      "count  1.697533e+06          1.697533e+06            1.697533e+06   \n",
      "mean   8.487660e+05          3.569048e+00            5.301422e+00   \n",
      "std    4.900357e+05          1.727883e+01            2.024445e+01   \n",
      "min    0.000000e+00          0.000000e+00            0.000000e+00   \n",
      "25%    4.243830e+05          0.000000e+00            0.000000e+00   \n",
      "50%    8.487660e+05          1.000000e+00            1.000000e+00   \n",
      "75%    1.273149e+06          3.000000e+00            5.000000e+00   \n",
      "max    1.697532e+06          6.084000e+03            6.510000e+03   \n",
      "\n",
      "               Time         Score  \n",
      "count  1.697533e+06  1.485341e+06  \n",
      "mean   1.262422e+09  4.110517e+00  \n",
      "std    1.289277e+08  1.197651e+00  \n",
      "min    8.793792e+08  1.000000e+00  \n",
      "25%    1.164413e+09  4.000000e+00  \n",
      "50%    1.307491e+09  5.000000e+00  \n",
      "75%    1.373242e+09  5.000000e+00  \n",
      "max    1.406074e+09  5.000000e+00  \n"
     ]
    },
    {
     "data": {
      "image/png": "[encoded data removed]",
      "text/plain": [
       "<Figure size 640x480 with 1 Axes>"
      ]
     },
     "metadata": {},
     "output_type": "display_data"
    },
    {
     "name": "stdout",
     "output_type": "stream",
     "text": [
      "\n",
      "EVERYTHING IS PROPERLY SET UP! YOU ARE READY TO START\n"
     ]
    }
   ],
   "source": [
    "trainingSet = pd.read_csv(\"./data/train.csv\")\n",
    "testingSet = pd.read_csv(\"./data/test.csv\")\n",
    "\n",
    "print(\"train.csv shape is \", trainingSet.shape)\n",
    "print(\"test.csv shape is \", testingSet.shape)\n",
    "\n",
    "print()\n",
    "\n",
    "print(trainingSet.head())\n",
    "print(trainingSet.columns.values)\n",
    "print()\n",
    "print(testingSet.head())\n",
    "\n",
    "print()\n",
    "\n",
    "print(trainingSet.describe())\n",
    "\n",
    "trainingSet['Score'].value_counts().plot(kind='bar', legend=True, alpha=.5)\n",
    "plt.show()\n",
    "\n",
    "# Make sure to comment this when submitting\n",
    "# trainingSet = trainingSet[:10000]\n",
    "\n",
    "print()\n",
    "print(\"EVERYTHING IS PROPERLY SET UP! YOU ARE READY TO START\")"
   ]
  },
  {
   "cell_type": "markdown",
   "metadata": {},
   "source": [
    "# Adding Features"
   ]
  },
  {
   "cell_type": "code",
   "execution_count": 55,
   "metadata": {},
   "outputs": [
    {
     "name": "stdout",
     "output_type": "stream",
     "text": [
      "['Id' 'ProductId' 'UserId' 'HelpfulnessNumerator' 'HelpfulnessDenominator'\n",
      " 'Time' 'Summary' 'Text' 'Score' 'Helpfulness' 'ReviewLength'\n",
      " 'SummaryLength' 'TextPolarity' 'TextSubjectivity' 'WordCount'\n",
      " 'ReviewYear' 'LengthPolarityInteraction' 'ReviewLength_log'\n",
      " 'WordCount_log' 'UserAverageScore' 'ProductAverageScore'\n",
      " 'SummaryPolarity' 'SummarySubjectivity' 'HelpfulnessScoreInteraction'\n",
      " 'LengthScoreInteraction' 'AvgWordLength']\n"
     ]
    }
   ],
   "source": [
    "from sklearn.preprocessing import MinMaxScaler\n",
    "from sklearn.feature_extraction.text import TfidfVectorizer\n",
    "\n",
    "\n",
    "def add_features_to(df):\n",
    "    # This is where you can do all your feature extraction\n",
    "\n",
    "    df['Helpfulness'] = df['HelpfulnessNumerator'] / df['HelpfulnessDenominator']\n",
    "    df['Helpfulness'] = df['Helpfulness'].fillna(0)\n",
    "\n",
    "    # Calculate the length of the review text\n",
    "    df['ReviewLength'] = df['Text'].fillna('').apply(len)\n",
    "\n",
    "    # Calculate the length of the summary text\n",
    "    df['SummaryLength'] = df['Summary'].fillna('').apply(len)\n",
    "    \n",
    "    # Sentiment analysis on review text\n",
    "    df['TextPolarity'] = df['Text'].fillna('').apply(lambda x: TextBlob(x).sentiment.polarity)\n",
    "    df['TextSubjectivity'] = df['Text'].fillna('').apply(lambda x: TextBlob(x).sentiment.subjectivity)\n",
    "\n",
    "    # Word count in the review text\n",
    "    df['WordCount'] = df['Text'].fillna('').apply(lambda x: len(x.split()))\n",
    "\n",
    "    # Extract temporal features from Time column\n",
    "    df['ReviewYear'] = pd.to_datetime(df['Time'], unit='s').dt.year\n",
    "    df['ReviewMonth'] = pd.to_datetime(df['Time'], unit='s').dt.month\n",
    "    df['ReviewWeek'] = pd.to_datetime(df['Time'], unit='s').dt.isocalendar().week\n",
    "    df['ReviewDayOfWeek'] = pd.to_datetime(df['Time'], unit='s').dt.dayofweek  # 0=Monday, 6=Sunday\n",
    "   \n",
    "    # Interaction feature between review length and text polarity\n",
    "    df['LengthPolarityInteraction'] = df['ReviewLength'] * df['TextPolarity']\n",
    "    \n",
    "    # 9. Log transformations for skewed features\n",
    "    df['ReviewLength_log'] = np.log1p(df['ReviewLength'])\n",
    "    df['WordCount_log'] = np.log1p(df['WordCount'])\n",
    "\n",
    "    # 10. Aggregates by ProductId and UserId (averages as numeric values)\n",
    "    df['UserAverageScore'] = df.groupby('UserId')['Score'].transform('mean')\n",
    "    df['ProductAverageScore'] = df.groupby('ProductId')['Score'].transform('mean')\n",
    "    \n",
    "    # Fill missing values for new users or products with the overall average\n",
    "    df['UserAverageScore'] = df['UserAverageScore'].fillna(df['Score'].mean())\n",
    "    df['ProductAverageScore'] = df['ProductAverageScore'].fillna(df['Score'].mean())\n",
    "    \n",
    "    # 11. Sentiment analysis on the summary text\n",
    "    df['SummaryPolarity'] = df['Summary'].fillna('').apply(lambda x: TextBlob(x).sentiment.polarity)\n",
    "    df['SummarySubjectivity'] = df['Summary'].fillna('').apply(lambda x: TextBlob(x).sentiment.subjectivity)\n",
    "    \n",
    "    # 12. Interaction features: Helpfulness and Score, Review Length and Score\n",
    "    df['HelpfulnessScoreInteraction'] = df['HelpfulnessNumerator'] / (df['HelpfulnessDenominator'] + 1e-5) * df['Score']\n",
    "    df['LengthScoreInteraction'] = df['ReviewLength'] * df['Score']\n",
    "    \n",
    "    # 13. Word density in Text (average word length)\n",
    "    df['AvgWordLength'] = df['Text'].fillna('').apply(lambda x: np.mean([len(word) for word in x.split()]) if x else 0)\n",
    "    \n",
    "    return df\n",
    "\n",
    "# Load the feature extracted files if they've already been generated\n",
    "if exists('./data/X_train_blank.csv'):\n",
    "    X_train = pd.read_csv(\"./data/X_train_crazy.csv\")\n",
    "if exists('./data/X_submission_blank.csv'):\n",
    "    X_submission = pd.read_csv(\"./data/X_submission_crazy.csv\")\n",
    "\n",
    "else:\n",
    "    # Process the DataFrame\n",
    "    train = add_features_to(trainingSet)\n",
    "    print(train.columns.values)\n",
    "\n",
    "    # Merge on Id so that the submission set can have feature columns as well\n",
    "    X_submission = pd.merge(train, testingSet, left_on='Id', right_on='Id')\n",
    "    X_submission = X_submission.drop(columns=['Score_x'])\n",
    "    X_submission = X_submission.rename(columns={'Score_y': 'Score'})\n",
    "\n",
    "    # The training set is where the score is not null\n",
    "    X_train =  train[train['Score'].notnull()]\n",
    "\n",
    "    X_submission.to_csv(\"./data/X_submission_real.csv\", index=False)\n",
    "    X_train.to_csv(\"./data/X_train_real.csv\", index=False)"
   ]
  },
  {
   "cell_type": "markdown",
   "metadata": {},
   "source": [
    "# Sample + Split into training and testing set"
   ]
  },
  {
   "cell_type": "code",
   "execution_count": 56,
   "metadata": {},
   "outputs": [],
   "source": [
    "# Split training set into training and testing set\n",
    "X_train, X_test, Y_train, Y_test = train_test_split(\n",
    "    X_train.drop(columns=['Score']),\n",
    "    X_train['Score'],\n",
    "    test_size=1/4.0,\n",
    "    random_state=0\n",
    ")"
   ]
  },
  {
   "cell_type": "markdown",
   "metadata": {},
   "source": [
    "# Feature Selection"
   ]
  },
  {
   "cell_type": "code",
   "execution_count": 120,
   "metadata": {},
   "outputs": [
    {
     "name": "stdout",
     "output_type": "stream",
     "text": [
      "['Id' 'ProductId' 'UserId' 'HelpfulnessNumerator' 'HelpfulnessDenominator'\n",
      " 'Time' 'Summary' 'Text' 'Helpfulness' 'ReviewLength' 'SummaryLength'\n",
      " 'TextPolarity' 'TextSubjectivity' 'WordCount' 'ReviewYear'\n",
      " 'LengthPolarityInteraction' 'ReviewLength_log' 'WordCount_log'\n",
      " 'UserAverageScore' 'ProductAverageScore' 'SummaryPolarity'\n",
      " 'SummarySubjectivity' 'HelpfulnessScoreInteraction'\n",
      " 'LengthScoreInteraction' 'AvgWordLength']\n",
      "Updated X_train_select, X_test_select, and X_submission_select with Lasso-selected features.\n"
     ]
    }
   ],
   "source": [
    "from sklearn.preprocessing import PolynomialFeatures\n",
    "from sklearn.linear_model import LassoCV\n",
    "from sklearn.feature_selection import RFE\n",
    "\n",
    "\n",
    "features = [\n",
    "    'HelpfulnessNumerator', \n",
    "    'HelpfulnessDenominator', \n",
    "    'Time', \n",
    "    'Helpfulness',                  # Ratio of Helpfulness\n",
    "    'ReviewLength',                 # Length of review text\n",
    "    'SummaryLength',                # Length of summary text\n",
    "    'TextPolarity',                 # Sentiment polarity of the review text\n",
    "    'TextSubjectivity',             # Sentiment subjectivity of the review text\n",
    "    'WordCount',                    # Word count of the review text\n",
    "    'ReviewYear',                   # Year the review was posted \n",
    "    'ReviewMonth',\n",
    "    'ReviewWeek',\n",
    "    'ReviewDayofWeek',\n",
    "    # new from here\n",
    "    'LengthPolarityInteraction',    # Interaction between review length and polarity\n",
    "    'WordCount_log',                # Log-transformed word count\n",
    "    'UserAverageScore',             # Average score per user\n",
    "    'ProductAverageScore',           # Average score per product\n",
    "    'SummaryPolarity',\n",
    "    'SummarySubjectivity',\n",
    "    'HelpfulnessScoreInteraction',\n",
    "    'LengthScoreInteraction',\n",
    "    'AvgWordLength',\n",
    "]\n",
    "\n",
    "# Adding TF-IDF columns to the features list\n",
    "# tfidf_features = [f'tfidf_{i}' for i in range(100)]  # Assuming max_features=100 for TF-IDF\n",
    "# features.extend(tfidf_features)\n",
    "\n",
    "print(X_train.columns.values)\n",
    "\n",
    "    \n",
    "X_train_select = X_train[features]\n",
    "X_test_select = X_test[features]\n",
    "X_submission_select = X_submission[features]\n",
    "\n",
    "# # Standardize the features to ensure Lasso works effectively\n",
    "scaler = StandardScaler()\n",
    "X_train_scaled = scaler.fit_transform(X_train_select)\n",
    "X_test_scaled = scaler.transform(X_test_select)\n",
    "\n",
    "# Apply LassoCV to determine the best alpha (regularization strength) and fit the model\n",
    "lasso = LassoCV(cv=5, random_state=42).fit(X_train_scaled, Y_train)\n",
    "optimal_alpha = lasso.alpha_\n",
    "print(f\"Optimal alpha from LassoCV: {optimal_alpha}\")\n",
    "\n",
    "\n",
    "selected_features = [\n",
    "    'HelpfulnessNumerator', \n",
    "    'HelpfulnessDenominator', \n",
    "    'Time', \n",
    "    'Helpfulness',                  # Ratio of Helpfulness\n",
    "    'ReviewLength',                 # Length of review text\n",
    "    'SummaryLength',                # Length of summary text\n",
    "    'TextPolarity',                 # Sentiment polarity of the review text\n",
    "    'TextSubjectivity',             # Sentiment subjectivity of the review text\n",
    "    'WordCount',                    # Word count of the review text\n",
    "    'ReviewYear',                   # Year the review was posted \n",
    "    # new from here\n",
    "    'WordCount_log',                # Log-transformed word count\n",
    "    'UserAverageScore',             # Average score per user\n",
    "    'ProductAverageScore',           # Average score per product\n",
    "    'SummaryPolarity',\n",
    "    'SummarySubjectivity',\n",
    "    'AvgWordLength',\n",
    "\n",
    "    \n",
    "]\n",
    "\n",
    "\n",
    "# Update the feature sets to include only the selected features\n",
    "X_train_select = X_train_select[selected_features]\n",
    "X_test_select = X_test_select[selected_features]\n",
    "X_submission_select = X_submission_select[selected_features]\n",
    "\n",
    "print(\"Updated X_train_select, X_test_select, and X_submission_select with Lasso-selected features.\")\n",
    "\n",
    "\n",
    "\n"
   ]
  },
  {
   "cell_type": "markdown",
   "metadata": {},
   "source": [
    "# Model Creation"
   ]
  },
  {
   "cell_type": "code",
   "execution_count": 142,
   "metadata": {},
   "outputs": [
    {
     "name": "stdout",
     "output_type": "stream",
     "text": [
      "131283     4.0\n",
      "1202017    1.0\n",
      "511808     0.0\n",
      "955172     3.0\n",
      "735507     4.0\n",
      "          ... \n",
      "152315     4.0\n",
      "963395     3.0\n",
      "117952     4.0\n",
      "1484405    4.0\n",
      "305711     3.0\n",
      "Name: Score, Length: 1114005, dtype: float64\n"
     ]
    },
    {
     "name": "stderr",
     "output_type": "stream",
     "text": [
      "c:\\Users\\Victor\\AppData\\Local\\Programs\\Python\\Python312\\Lib\\site-packages\\xgboost\\core.py:158: UserWarning: [19:08:06] WARNING: C:\\buildkite-agent\\builds\\buildkite-windows-cpu-autoscaling-group-i-0ed59c031377d09b8-1\\xgboost\\xgboost-ci-windows\\src\\learner.cc:740: \n",
      "Parameters: { \"use_label_encoder\" } are not used.\n",
      "\n",
      "  warnings.warn(smsg, UserWarning)\n"
     ]
    },
    {
     "name": "stdout",
     "output_type": "stream",
     "text": [
      "Xgb accuracy:  0.22571740956976968\n",
      "LGBM accuracy:  0.6479414869552104\n",
      "RandomForestClassifier accuracy:  0.6397359803520262\n"
     ]
    }
   ],
   "source": [
    "# Learn the model\n",
    "import lightgbm as lgb\n",
    "from sklearn.ensemble import RandomForestClassifier\n",
    "import xgboost as xgb\n",
    "\n",
    "\n",
    "\n",
    "# Define the parameter grid for LightGBM\n",
    "# param_grid = {\n",
    "#     'num_leaves': [31, 50, 70],\n",
    "#     'learning_rate': [0.1, 0.01],\n",
    "#     'max_depth': [-1, 10, 20],\n",
    "#     'feature_fraction': [0.8, 1.0],\n",
    "#     'bagging_fraction': [0.8, 1.0],\n",
    "#     'bagging_freq': [5, 10]\n",
    "# }\n",
    "\n",
    "# # Initialize the LightGBM classifier\n",
    "# lgbm = LGBMClassifier(random_state=42)\n",
    "\n",
    "# # Set up GridSearchCV with 3-fold cross-validation\n",
    "# grid_search = GridSearchCV(estimator=lgbm, param_grid=param_grid, scoring='accuracy', cv=3, verbose=1, n_jobs=-1)\n",
    "\n",
    "# # Fit the grid search on the training set\n",
    "# grid_search.fit(X_train_select, Y_train)\n",
    "\n",
    "# # Best model after tuning\n",
    "# best_lgbm_model = grid_search.best_estimator_\n",
    "# print(\"Best parameters found: \", grid_search.best_params_)\n",
    "\n",
    "# # Evaluate the tuned model on the validation set\n",
    "# Y_test_predictions = best_lgbm_model.predict(X_test_select)\n",
    "\n",
    "# Step 1: Tune Hyperparameters for Base Models\n",
    "# Example hyperparameter tuning for RandomForest\n",
    "\n",
    "# Define a grid of hyperparameters to tune\n",
    "xgb_classifier = xgb.XGBClassifier(\n",
    "    objective='multi:softmax',  # For multi-class classification\n",
    "    num_class=len([0,1,2,3,4]),  # Number of unique classes in y\n",
    "    eval_metric='mlogloss',\n",
    "    use_label_encoder=False,\n",
    "    random_state=42\n",
    ")\n",
    "\n",
    "# Train the model\n",
    "xgb_classifier.fit(X_train_select, Y_train-1)\n",
    "\n",
    "Y_test_predictions0 = xgb_classifier.predict(X_test_select+1)\n",
    "print(\"Xgb accuracy: \", accuracy_score(Y_test, Y_test_predictions0))\n",
    "\n",
    "\n",
    "lgbm_model = LGBMClassifier(\n",
    "    n_estimators=888,\n",
    "    learning_rate=0.016486206098036624,\n",
    "    max_depth=10,\n",
    "    num_leaves=36,\n",
    "    subsample=0.5876457482520973,\n",
    "    colsample_bytree=0.5948404239217249,\n",
    "    min_child_samples=42,\n",
    "    random_state=0,\n",
    "    verbose=-1).fit(X_train_select, Y_train)\n",
    "\n",
    "\n",
    "Y_test_predictions = lgbm_model.predict(X_test_select)\n",
    "print(\"LGBM accuracy: \", accuracy_score(Y_test, Y_test_predictions))\n",
    "\n",
    "\n",
    "# # Plot feature importance\n",
    "# lgb.plot_importance(lgbm_model)  # Shows the top 10 features\n",
    "# plt.title(\"Feature Importance\")\n",
    "# plt.show()\n",
    "\n",
    "rf_model = RandomForestClassifier(n_estimators= 996, max_depth= 19, min_samples_split= 15, min_samples_leaf= 2, max_features= 'sqrt', bootstrap= True)\n",
    "rf_model.fit(X_train_select, Y_train)\n",
    "Y_test_predictions2 = rf_model.predict(X_test_select)\n",
    "print(\"RandomForestClassifier accuracy: \", accuracy_score(Y_test, Y_test_predictions2))\n",
    "    \n"
   ]
  },
  {
   "cell_type": "markdown",
   "metadata": {},
   "source": [
    "# Model Evaluation"
   ]
  },
  {
   "cell_type": "code",
   "execution_count": 122,
   "metadata": {},
   "outputs": [
    {
     "name": "stdout",
     "output_type": "stream",
     "text": [
      "Accuracy on testing set =  0.6479414869552104\n"
     ]
    },
    {
     "data": {
      "image/png": "[encoded data removed]",
      "text/plain": [
       "<Figure size 640x480 with 2 Axes>"
      ]
     },
     "metadata": {},
     "output_type": "display_data"
    }
   ],
   "source": [
    "# Evaluate your model on the testing set\n",
    "print(\"Accuracy on testing set = \", accuracy_score(Y_test, Y_test_predictions))\n",
    "\n",
    "# Plot a confusion matrix\n",
    "cm = confusion_matrix(Y_test, Y_test_predictions, normalize='true')\n",
    "sns.heatmap(cm, annot=True)\n",
    "plt.title('Confusion matrix of the classifier')\n",
    "plt.xlabel('Predicted')\n",
    "plt.ylabel('True')\n",
    "plt.show()\n",
    "# 5651"
   ]
  },
  {
   "cell_type": "markdown",
   "metadata": {},
   "source": [
    "# Create submission file"
   ]
  },
  {
   "cell_type": "code",
   "execution_count": 123,
   "metadata": {},
   "outputs": [],
   "source": [
    "# Create the submission file\n",
    "\n",
    "X_submission['Score'] = lgbm_model.predict(X_submission_select)\n",
    "submission = X_submission[['Id', 'Score']]\n",
    "submission.to_csv(\"./data/submission.csv\", index=False)"
   ]
  }
 ],
 "metadata": {
  "kernelspec": {
   "display_name": "Python 3",
   "language": "python",
   "name": "python3"
  },
  "language_info": {
   "codemirror_mode": {
    "name": "ipython",
    "version": 3
   },
   "file_extension": ".py",
   "mimetype": "text/x-python",
   "name": "python",
   "nbconvert_exporter": "python",
   "pygments_lexer": "ipython3",
   "version": "3.12.6"
  }
 },
 "nbformat": 4,
 "nbformat_minor": 2
}
