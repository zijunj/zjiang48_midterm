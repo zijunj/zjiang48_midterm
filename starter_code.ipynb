{
 "cells": [
  {
   "cell_type": "markdown",
   "metadata": {},
   "source": [
    "# Libraries"
   ]
  },
  {
   "cell_type": "code",
   "execution_count": 3,
   "metadata": {},
   "outputs": [],
   "source": [
    "import pickle\n",
    "import numpy as np\n",
    "import pandas as pd\n",
    "import seaborn as sns\n",
    "from textblob import TextBlob\n",
    "\n",
    "from os.path import exists\n",
    "import matplotlib.pyplot as plt\n",
    "\n",
    "from sklearn.neighbors import KNeighborsClassifier\n",
    "from sklearn.ensemble import RandomForestClassifier\n",
    "from xgboost import XGBClassifier\n",
    "from lightgbm import LGBMClassifier\n",
    "\n",
    "from sklearn.linear_model import LogisticRegression\n",
    "from sklearn.model_selection import KFold, cross_val_predict\n",
    "\n",
    "\n",
    "from sklearn.linear_model import Lasso\n",
    "from sklearn.preprocessing import StandardScaler\n",
    "\n",
    "from sklearn.model_selection import GridSearchCV\n",
    "\n",
    "import optuna\n",
    "from optuna.samplers import TPESampler\n",
    "\n",
    "\n",
    "from sklearn.model_selection import train_test_split\n",
    "from sklearn.metrics import accuracy_score, confusion_matrix"
   ]
  },
  {
   "cell_type": "markdown",
   "metadata": {},
   "source": [
    "# Loading the Files\n",
    "\n",
    "Download the csv files into the `data/` directory."
   ]
  },
  {
   "cell_type": "code",
   "execution_count": 12,
   "metadata": {},
   "outputs": [
    {
     "name": "stdout",
     "output_type": "stream",
     "text": [
      "train.csv shape is  (1697533, 9)\n",
      "test.csv shape is  (212192, 2)\n",
      "\n",
      "        Id   ProductId          UserId  HelpfulnessNumerator  \\\n",
      "0   914403  B0009W5KHM   AV6QDP8Q0ONK4                     2   \n",
      "1   354887  6303079709  A2I8RXJN80A2D2                     0   \n",
      "2  1407653  B004H0M2XC  A3FHV3RV8Z12E6                     0   \n",
      "3  1377458  B003ZJ9536  A12VLTA3ZHVPUY                     1   \n",
      "4   475323  630574453X  A13NM1PES9OXVN                     2   \n",
      "\n",
      "   HelpfulnessDenominator        Time  \\\n",
      "0                       2  1341014400   \n",
      "1                       0  1168819200   \n",
      "2                       0  1386201600   \n",
      "3                       1  1348704000   \n",
      "4                       3   970012800   \n",
      "\n",
      "                                         Summary  \\\n",
      "0                                  GOOD FUN FILM   \n",
      "1                                   Movie Review   \n",
      "2             When is it a good time to Consent?   \n",
      "3                                          TRUTH   \n",
      "4  Intelligent and bittersweet -- stays with you   \n",
      "\n",
      "                                                Text  Score  \n",
      "0  While most straight to DVD films are not worth...    5.0  \n",
      "1  I have wanted this one for sometime, also.  I ...    5.0  \n",
      "2  Actually this was a pretty darn good indie fil...    4.0  \n",
      "3  Episodes 37 to 72 of the series press on in a ...    5.0  \n",
      "4  I was really impressed with this movie, but wa...    3.0  \n",
      "['Id' 'ProductId' 'UserId' 'HelpfulnessNumerator' 'HelpfulnessDenominator'\n",
      " 'Time' 'Summary' 'Text' 'Score']\n",
      "\n",
      "        Id  Score\n",
      "0  1323432    NaN\n",
      "1  1137299    NaN\n",
      "2  1459366    NaN\n",
      "3   931601    NaN\n",
      "4  1311995    NaN\n",
      "\n",
      "                 Id  HelpfulnessNumerator  HelpfulnessDenominator  \\\n",
      "count  1.697533e+06          1.697533e+06            1.697533e+06   \n",
      "mean   8.487660e+05          3.569048e+00            5.301422e+00   \n",
      "std    4.900357e+05          1.727883e+01            2.024445e+01   \n",
      "min    0.000000e+00          0.000000e+00            0.000000e+00   \n",
      "25%    4.243830e+05          0.000000e+00            0.000000e+00   \n",
      "50%    8.487660e+05          1.000000e+00            1.000000e+00   \n",
      "75%    1.273149e+06          3.000000e+00            5.000000e+00   \n",
      "max    1.697532e+06          6.084000e+03            6.510000e+03   \n",
      "\n",
      "               Time         Score  \n",
      "count  1.697533e+06  1.485341e+06  \n",
      "mean   1.262422e+09  4.110517e+00  \n",
      "std    1.289277e+08  1.197651e+00  \n",
      "min    8.793792e+08  1.000000e+00  \n",
      "25%    1.164413e+09  4.000000e+00  \n",
      "50%    1.307491e+09  5.000000e+00  \n",
      "75%    1.373242e+09  5.000000e+00  \n",
      "max    1.406074e+09  5.000000e+00  \n"
     ]
    },
    {
     "data": {
      "image/png": "[encoded data removed]",
      "text/plain": [
       "<Figure size 640x480 with 1 Axes>"
      ]
     },
     "metadata": {},
     "output_type": "display_data"
    },
    {
     "name": "stdout",
     "output_type": "stream",
     "text": [
      "\n",
      "EVERYTHING IS PROPERLY SET UP! YOU ARE READY TO START\n"
     ]
    }
   ],
   "source": [
    "trainingSet = pd.read_csv(\"./data/train.csv\")\n",
    "testingSet = pd.read_csv(\"./data/test.csv\")\n",
    "\n",
    "print(\"train.csv shape is \", trainingSet.shape)\n",
    "print(\"test.csv shape is \", testingSet.shape)\n",
    "\n",
    "print()\n",
    "\n",
    "print(trainingSet.head())\n",
    "print(trainingSet.columns.values)\n",
    "print()\n",
    "print(testingSet.head())\n",
    "\n",
    "print()\n",
    "\n",
    "print(trainingSet.describe())\n",
    "\n",
    "trainingSet['Score'].value_counts().plot(kind='bar', legend=True, alpha=.5)\n",
    "plt.show()\n",
    "\n",
    "trainingSet = trainingSet[:10000]\n",
    "trainingSet.to_csv(\"./data/X_train_fresh.csv\", index=False)\n",
    "\n",
    "# Make sure to comment this when submitting\n",
    "# trainingSet = trainingSet[:10000]\n",
    "\n",
    "print()\n",
    "print(\"EVERYTHING IS PROPERLY SET UP! YOU ARE READY TO START\")"
   ]
  },
  {
   "cell_type": "markdown",
   "metadata": {},
   "source": [
    "# Adding Features"
   ]
  },
  {
   "cell_type": "code",
   "execution_count": 6,
   "metadata": {},
   "outputs": [
    {
     "name": "stdout",
     "output_type": "stream",
     "text": [
      "['Id' 'ProductId' 'UserId' 'HelpfulnessNumerator' 'HelpfulnessDenominator'\n",
      " 'Time' 'Summary' 'Text' 'Score' 'Helpfulness' 'ReviewLength'\n",
      " 'SummaryLength' 'TextPolarity' 'TextSubjectivity' 'WordCount'\n",
      " 'ReviewYear' 'ReviewMonth' 'ReviewDay' 'ReviewWeekday'\n",
      " 'SentimentCategory' 'ReviewLength_norm' 'SummaryLength_norm'\n",
      " 'WordCount_norm' 'LengthPolarityInteraction']\n"
     ]
    }
   ],
   "source": [
    "from sklearn.preprocessing import MinMaxScaler\n",
    "\n",
    "def add_features_to(df):\n",
    "    # This is where you can do all your feature extraction\n",
    "\n",
    "    df['Helpfulness'] = df['HelpfulnessNumerator'] / df['HelpfulnessDenominator']\n",
    "    df['Helpfulness'] = df['Helpfulness'].fillna(0)\n",
    "\n",
    "    # Calculate the length of the review text\n",
    "    df['ReviewLength'] = df['Text'].fillna('').apply(len)\n",
    "\n",
    "    # Calculate the length of the summary text\n",
    "    df['SummaryLength'] = df['Summary'].fillna('').apply(len)\n",
    "    \n",
    "    # Sentiment analysis on review text\n",
    "    df['TextPolarity'] = df['Text'].fillna('').apply(lambda x: TextBlob(x).sentiment.polarity)\n",
    "    df['TextSubjectivity'] = df['Text'].fillna('').apply(lambda x: TextBlob(x).sentiment.subjectivity)\n",
    "\n",
    "    # Word count in the review text\n",
    "    df['WordCount'] = df['Text'].fillna('').apply(lambda x: len(x.split()))\n",
    "\n",
    "    # Extract temporal features from Time column\n",
    "    df['ReviewYear'] = pd.to_datetime(df['Time'], unit='s').dt.year\n",
    "   \n",
    "     # Sentiment Category based on polarity and subjectivity\n",
    "    df['SentimentCategory'] = df.apply(\n",
    "        lambda row: 'Positive Opinion' if row['TextPolarity'] > 0.5 and row['TextSubjectivity'] > 0.5\n",
    "        else ('Negative' if row['TextPolarity'] < 0 else 'Neutral'),\n",
    "        axis=1\n",
    "    )\n",
    "    \n",
    "     # Normalization of text length features\n",
    "    scaler = MinMaxScaler()\n",
    "    df[['ReviewLength_norm', 'SummaryLength_norm', 'WordCount_norm']] = scaler.fit_transform(\n",
    "        df[['ReviewLength', 'SummaryLength', 'WordCount']]\n",
    "    )\n",
    "\n",
    "    # Interaction feature between review length and text polarity\n",
    "    df['LengthPolarityInteraction'] = df['ReviewLength'] * df['TextPolarity']\n",
    "\n",
    "    return df\n",
    "\n",
    "# Load the feature extracted files if they've already been generated\n",
    "if exists('./data/X_train2.csv'):\n",
    "    X_train = pd.read_csv(\"./data/X_train.csv\")\n",
    "if exists('./data/X_submission2.csv'):\n",
    "    X_submission = pd.read_csv(\"./data/X_submission.csv\")\n",
    "\n",
    "else:\n",
    "    # Process the DataFrame\n",
    "    train = add_features_to(trainingSet)\n",
    "    print(train.columns.values)\n",
    "\n",
    "    # Merge on Id so that the submission set can have feature columns as well\n",
    "    X_submission = pd.merge(train, testingSet, left_on='Id', right_on='Id')\n",
    "    X_submission = X_submission.drop(columns=['Score_x'])\n",
    "    X_submission = X_submission.rename(columns={'Score_y': 'Score'})\n",
    "\n",
    "    # The training set is where the score is not null\n",
    "    X_train =  train[train['Score'].notnull()]\n",
    "\n",
    "    X_submission.to_csv(\"./data/X_submission2.csv\", index=False)\n",
    "    X_train.to_csv(\"./data/X_train2.csv\", index=False)"
   ]
  },
  {
   "cell_type": "markdown",
   "metadata": {},
   "source": [
    "# Sample + Split into training and testing set"
   ]
  },
  {
   "cell_type": "code",
   "execution_count": 7,
   "metadata": {},
   "outputs": [],
   "source": [
    "# Split training set into training and testing set\n",
    "X_train, X_test, Y_train, Y_test = train_test_split(\n",
    "    X_train.drop(columns=['Score']),\n",
    "    X_train['Score'],\n",
    "    test_size=1/4.0,\n",
    "    random_state=0\n",
    ")"
   ]
  },
  {
   "cell_type": "markdown",
   "metadata": {},
   "source": [
    "# Feature Selection"
   ]
  },
  {
   "cell_type": "code",
   "execution_count": 21,
   "metadata": {},
   "outputs": [
    {
     "name": "stdout",
     "output_type": "stream",
     "text": [
      "['Id' 'ProductId' 'UserId' 'HelpfulnessNumerator' 'HelpfulnessDenominator'\n",
      " 'Time' 'Summary' 'Text' 'Helpfulness' 'ReviewLength' 'SummaryLength'\n",
      " 'TextPolarity' 'TextSubjectivity' 'WordCount' 'ReviewYear' 'ReviewMonth'\n",
      " 'ReviewDay' 'ReviewWeekday' 'SentimentCategory' 'ReviewLength_norm'\n",
      " 'SummaryLength_norm' 'WordCount_norm' 'LengthPolarityInteraction']\n",
      "Features selected by Lasso: ['HelpfulnessNumerator', 'HelpfulnessDenominator', 'Helpfulness', 'ReviewLength', 'SummaryLength', 'TextPolarity', 'TextSubjectivity', 'ReviewYear', 'ReviewMonth', 'ReviewDay']\n",
      "Updated X_train_select, X_test_select, and X_submission_select with Lasso-selected features.\n"
     ]
    }
   ],
   "source": [
    "from sklearn.preprocessing import PolynomialFeatures\n",
    "\n",
    "features = [\n",
    "    'HelpfulnessNumerator', \n",
    "    'HelpfulnessDenominator', \n",
    "    'Time', \n",
    "    'Helpfulness', \n",
    "    'ReviewLength', \n",
    "    'SummaryLength', \n",
    "    'TextPolarity',           # Sentiment polarity of the review text\n",
    "    'TextSubjectivity',       # Sentiment subjectivity of the review text\n",
    "    'WordCount',              # Word count of the review text\n",
    "    'ReviewYear',             # Year the review was posted\n",
    "    'ReviewMonth',            # Month the review was posted\n",
    "    'ReviewDay',              # Day the review was posted\n",
    "    'ReviewWeekday'           # Weekday the review was posted\n",
    "]\n",
    "\n",
    "print(X_train.columns.values)\n",
    "\n",
    "    \n",
    "X_train_select = X_train[features]\n",
    "X_test_select = X_test[features]\n",
    "X_submission_select = X_submission[features]\n",
    "\n",
    "# Select these features from the datasets\n",
    "X_train_select = X_train[features]\n",
    "X_test_select = X_test[features]\n",
    "X_submission_select = X_submission[features]\n",
    "\n",
    "# Standardize the features for Lasso\n",
    "scaler = StandardScaler()\n",
    "X_train_scaled = scaler.fit_transform(X_train_select)\n",
    "X_test_scaled = scaler.transform(X_test_select)\n",
    "\n",
    "# Initialize Lasso for feature selection\n",
    "lasso = Lasso(alpha=0.01)  # Adjust alpha based on model performance\n",
    "\n",
    "# Fit Lasso to the scaled training data\n",
    "lasso.fit(X_train_scaled, Y_train)\n",
    "\n",
    "# Identify features selected by Lasso (non-zero coefficients)\n",
    "selected_features = [feature for feature, coef in zip(features, lasso.coef_) if coef != 0]\n",
    "print(\"Features selected by Lasso:\", selected_features)\n",
    "\n",
    "\n",
    "\n",
    "# Update X_train_select, X_test_select, and X_submission_select to include only selected features\n",
    "X_train_select = X_train_select[selected_features]\n",
    "X_test_select = X_test_select[selected_features]\n",
    "X_submission_select = X_submission_select[selected_features]\n",
    "\n",
    "# # Step 1: Add advanced feature engineering with PolynomialFeatures\n",
    "# poly = PolynomialFeatures(degree=3, interaction_only=True, include_bias=False)\n",
    "# X_train_select = poly.fit_transform(X_train_select)\n",
    "# X_test_select = poly.fit_transform(X_test_select)\n",
    "\n",
    "\n",
    "print(\"Updated X_train_select, X_test_select, and X_submission_select with Lasso-selected features.\")\n",
    "\n"
   ]
  },
  {
   "cell_type": "markdown",
   "metadata": {},
   "source": [
    "# Model Creation"
   ]
  },
  {
   "cell_type": "code",
   "execution_count": 19,
   "metadata": {},
   "outputs": [
    {
     "name": "stdout",
     "output_type": "stream",
     "text": [
      "Fitting 3 folds for each of 144 candidates, totalling 432 fits\n"
     ]
    },
    {
     "name": "stderr",
     "output_type": "stream",
     "text": [
      "c:\\Users\\Victor\\AppData\\Local\\Programs\\Python\\Python312\\Lib\\site-packages\\numpy\\ma\\core.py:2846: RuntimeWarning: invalid value encountered in cast\n",
      "  _data = np.array(data, dtype=dtype, copy=copy,\n"
     ]
    },
    {
     "name": "stdout",
     "output_type": "stream",
     "text": [
      "Best parameters found:  {'bagging_fraction': 0.8, 'bagging_freq': 5, 'feature_fraction': 0.8, 'learning_rate': 0.01, 'max_depth': 20, 'num_leaves': 50}\n"
     ]
    }
   ],
   "source": [
    "# Learn the model\n",
    "\n",
    "# number_of_neighbors = range(20,50)\n",
    "# for neighbor in number_of_neighbors:\n",
    "#     knn_model = KNeighborsClassifier(200).fit(X_train_select, Y_train)\n",
    "#     Y_test_predictions = knn_model.predict(X_test_select)\n",
    "#     print(\"Accuracy on testing set = \", accuracy_score(Y_test, Y_test_predictions))\n",
    "#     print(\"neighbor is \", neighbor)\n",
    "# rf_model = RandomForestClassifier(n_estimators=100, random_state=0).fit(X_train_select, Y_train)\n",
    "# xgb_model = XGBClassifier(use_label_encoder=False, eval_metric='mlogloss', random_state=1).fit(X_train_select, Y_train)\n",
    "\n",
    "# Initialize the LightGBM classifier\n",
    "    \n",
    "# Define the objective function for Bayesian Optimization\n",
    "def objective(trial):\n",
    "    # Define the parameter search space\n",
    "    params = {\n",
    "        'n_estimators': trial.suggest_int('n_estimators', 100, 1000),\n",
    "        'learning_rate': trial.suggest_float('learning_rate', 0.01, 0.3, log=True),\n",
    "        'num_leaves': trial.suggest_int('num_leaves', 20, 50),\n",
    "        'max_depth': trial.suggest_int('max_depth', 3, 15),\n",
    "        'subsample': trial.suggest_float('subsample', 0.5, 1.0),\n",
    "        'colsample_bytree': trial.suggest_float('colsample_bytree', 0.5, 1.0),\n",
    "        'min_child_samples': trial.suggest_int('min_child_samples', 10, 50)\n",
    "    }\n",
    "\n",
    "    # Initialize the LightGBM model with trial-specific parameters\n",
    "    lgbm_model = LGBMClassifier(**params, random_state=0)\n",
    "    \n",
    "    # Train the model\n",
    "    lgbm_model.fit(X_train_select, Y_train)\n",
    "    \n",
    "    # Predict on validation set\n",
    "    Y_test_predictions = lgbm_model.predict(X_test_select)\n",
    "    \n",
    "    # Calculate accuracy\n",
    "    accuracy = accuracy_score(Y_test, Y_test_predictions)\n",
    "    return accuracy\n",
    "\n",
    "# # Run Bayesian optimization\n",
    "# study = optuna.create_study(direction='maximize', sampler=TPESampler())\n",
    "# study.optimize(objective, n_trials=50)  # Number of trials can be adjusted\n",
    "\n",
    "# # Output the best parameters and accuracy score\n",
    "# print(\"Best parameters found by Optuna:\")\n",
    "# print(study.best_trial.params)\n",
    "# print(f\"Best accuracy: {study.best_trial.value:.2f}\")\n",
    "\n",
    "\n",
    "# lgbm_model = LGBMClassifier(\n",
    "#     n_estimators=888,           # Start with a high number of estimators\n",
    "#     learning_rate=0.016486206098036624,         # Lower learning rate for better accuracy\n",
    "#     max_depth=10,                # Control the depth of the trees\n",
    "#     num_leaves=36,              # Control the number of leaves\n",
    "#     subsample=0.5876457482520973,              # Row subsampling to prevent overfitting\n",
    "#     colsample_bytree=0.5948404239217249,       # Column subsampling to prevent overfitting\n",
    "#     min_child_samples=42,       # Minimum number of samples per leaf\n",
    "#     random_state=0,\n",
    "#     verbose=-1\n",
    "# ).fit(X_train_select, Y_train)\n",
    "\n",
    "\n",
    "# Define the parameter grid for LightGBM\n",
    "# param_grid = {\n",
    "#     'num_leaves': [31, 50, 70],\n",
    "#     'learning_rate': [0.1, 0.01],\n",
    "#     'max_depth': [-1, 10, 20],\n",
    "#     'feature_fraction': [0.8, 1.0],\n",
    "#     'bagging_fraction': [0.8, 1.0],\n",
    "#     'bagging_freq': [5, 10]\n",
    "# }\n",
    "\n",
    "# # Initialize the LightGBM classifier\n",
    "# lgbm = LGBMClassifier(random_state=42)\n",
    "\n",
    "# # Set up GridSearchCV with 3-fold cross-validation\n",
    "# grid_search = GridSearchCV(estimator=lgbm, param_grid=param_grid, scoring='accuracy', cv=3, verbose=1, n_jobs=-1)\n",
    "\n",
    "# # Fit the grid search on the training set\n",
    "# grid_search.fit(X_train_select, Y_train)\n",
    "\n",
    "# # Best model after tuning\n",
    "# best_lgbm_model = grid_search.best_estimator_\n",
    "# print(\"Best parameters found: \", grid_search.best_params_)\n",
    "\n",
    "# # Evaluate the tuned model on the validation set\n",
    "# Y_test_predictions = best_lgbm_model.predict(X_test_select)\n",
    "\n",
    "from sklearn.ensemble import StackingClassifier\n",
    "\n",
    "base_estimators = [\n",
    "    ('rf', RandomForestClassifier()),\n",
    "    ('lgbm', LGBMClassifier()),\n",
    "]\n",
    "stacking_model = StackingClassifier(estimators=base_estimators, final_estimator=LogisticRegression())\n",
    "stacking_model.fit(X_train, Y_train)\n",
    "\n",
    "#     # Predict the score using the model\n",
    "\n",
    "# Y_test_predictions = lgbm_model.predict(X_test_select)\n",
    "    \n",
    "\n"
   ]
  },
  {
   "cell_type": "markdown",
   "metadata": {},
   "source": [
    "# Model Evaluation"
   ]
  },
  {
   "cell_type": "code",
   "execution_count": 20,
   "metadata": {},
   "outputs": [
    {
     "name": "stdout",
     "output_type": "stream",
     "text": [
      "Accuracy on testing set =  0.57\n"
     ]
    },
    {
     "data": {
      "image/png": "[encoded data removed]",
      "text/plain": [
       "<Figure size 640x480 with 2 Axes>"
      ]
     },
     "metadata": {},
     "output_type": "display_data"
    }
   ],
   "source": [
    "# Evaluate your model on the testing set\n",
    "print(\"Accuracy on testing set = \", accuracy_score(Y_test, Y_test_predictions))\n",
    "\n",
    "# Plot a confusion matrix\n",
    "cm = confusion_matrix(Y_test, Y_test_predictions, normalize='true')\n",
    "sns.heatmap(cm, annot=True)\n",
    "plt.title('Confusion matrix of the classifier')\n",
    "plt.xlabel('Predicted')\n",
    "plt.ylabel('True')\n",
    "plt.show()\n",
    "# 5651"
   ]
  },
  {
   "cell_type": "markdown",
   "metadata": {},
   "source": [
    "# Create submission file"
   ]
  },
  {
   "cell_type": "code",
   "execution_count": 143,
   "metadata": {},
   "outputs": [],
   "source": [
    "# Create the submission file\n",
    "\n",
    "X_submission['Score'] = lgbm_model.predict(X_submission_select)\n",
    "submission = X_submission[['Id', 'Score']]\n",
    "submission.to_csv(\"./data/submission.csv\", index=False)"
   ]
  }
 ],
 "metadata": {
  "kernelspec": {
   "display_name": "Python 3",
   "language": "python",
   "name": "python3"
  },
  "language_info": {
   "codemirror_mode": {
    "name": "ipython",
    "version": 3
   },
   "file_extension": ".py",
   "mimetype": "text/x-python",
   "name": "python",
   "nbconvert_exporter": "python",
   "pygments_lexer": "ipython3",
   "version": "3.12.6"
  }
 },
 "nbformat": 4,
 "nbformat_minor": 2
}
